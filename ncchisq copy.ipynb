{
 "cells": [
  {
   "cell_type": "code",
   "execution_count": 1,
   "metadata": {},
   "outputs": [],
   "source": [
    "import numpy as np\n",
    "import pandas as pd\n",
    "import matplotlib.pyplot as plt\n",
    "from scipy.stats import stats\n",
    "from scipy.stats import *\n",
    "from scipy.special import erf\n",
    "from scipy.special import iv"
   ]
  },
  {
   "cell_type": "code",
   "execution_count": 4,
   "metadata": {},
   "outputs": [
    {
     "data": {
      "image/png": "[encoded data removed]",
      "text/plain": [
       "<Figure size 432x288 with 1 Axes>"
      ]
     },
     "metadata": {
      "needs_background": "light"
     },
     "output_type": "display_data"
    }
   ],
   "source": [
    "#Plot and sample the non-central chi-square distribution\n",
    "\n",
    "#Define the parameters\n",
    "dfs=5 #degrees of freedom\n",
    "lambdas=2 #non-centrally parameter\n",
    "a=0 #left truncation\n",
    "b=25 #right truncation\n",
    "ngrid=100 #number of grid steps\n",
    "nsample=np.power(10,6)\n",
    "\n",
    "#Define the grid with linspace\n",
    "#deltax=(b-a)/ngrids\n",
    "#x=np.linspace(a,b,ngrids)\n",
    "\n",
    "#Define the grid with the colon operator\n",
    "deltax=(b-a)/ngrid #grid step\n",
    "x=np.arange(a,b,deltax)\n",
    "\n",
    "#Compute and plot the PDF and CDF\n",
    "manual_pdf=(iv(((dfs-2)/2),1.8)*(np.sqrt(lambdas*x))*((x/lambdas)**((dfs-2)/4))*np.exp(-(x+lambdas)/2))*0.5\n",
    "pdf_chi=ncx2.pdf(x,dfs,lambdas)\n",
    "cdf_chi=ncx2.cdf(x,dfs,lambdas)\n",
    "manual_cdf=(pdf_chi.cumsum())/deltax\n",
    "\n",
    "\n",
    "plt.figure(1)\n",
    "plt.plot(x,pdf_chi,'r',x,cdf_chi,'b',x,manual_cdf,'g')\n",
    "plt.xlabel('x')\n",
    "plt.title('Non-central chi-square PDF and CDF with d={} and lambda={}'.format(dfs,lambdas))\n",
    "plt.legend(['PDF','CDF'])\n",
    "plt.show()\n",
    "\n",
    "#Sample the non-central chi-square distribution\n",
    "#Add this as an exercise "
   ]
  },
  {
   "cell_type": "code",
   "execution_count": 6,
   "metadata": {},
   "outputs": [
    {
     "data": {
      "text/plain": [
       "array([0.00000000e+00, 3.41248870e-02, 5.06473712e-02, 6.05812936e-02,\n",
       "       6.63369935e-02, 6.92072327e-02, 7.00245955e-02, 6.93703508e-02,\n",
       "       6.76676416e-02, 6.52316888e-02, 6.23002701e-02, 5.90537707e-02,\n",
       "       5.56291269e-02, 5.21299146e-02, 4.86338572e-02, 4.51985313e-02,\n",
       "       4.18657673e-02, 3.86650832e-02, 3.56163841e-02, 3.27320977e-02,\n",
       "       3.00188689e-02, 2.74789092e-02, 2.51110699e-02, 2.29116979e-02,\n",
       "       2.08753140e-02, 1.89951524e-02, 1.72635846e-02, 1.56724531e-02,\n",
       "       1.42133310e-02, 1.28777217e-02, 1.16572112e-02, 1.05435821e-02,\n",
       "       9.52889603e-03, 8.60555232e-03, 7.76632699e-03, 7.00439625e-03,\n",
       "       6.31334815e-03, 5.68718488e-03, 5.12031808e-03, 4.60755882e-03,\n",
       "       4.14410372e-03, 3.72551833e-03, 3.34771879e-03, 3.00695226e-03,\n",
       "       2.69977697e-03, 2.42304208e-03, 2.17386783e-03, 1.94962616e-03,\n",
       "       1.74792208e-03, 1.56657572e-03, 1.40360538e-03, 1.25721149e-03,\n",
       "       1.12576154e-03, 1.00777595e-03, 9.01914978e-04, 8.06966463e-04,\n",
       "       7.21834573e-04, 6.45529346e-04, 5.77157088e-04, 5.15911533e-04,\n",
       "       4.61065743e-04, 4.11964681e-04, 3.68018427e-04, 3.28695985e-04,\n",
       "       2.93519634e-04, 2.62059787e-04, 2.33930316e-04, 2.08784305e-04,\n",
       "       1.86310195e-04, 1.66228293e-04, 1.48287603e-04, 1.32262969e-04,\n",
       "       1.17952478e-04, 1.05175123e-04, 9.37686934e-05, 8.35878610e-05,\n",
       "       7.45024661e-05, 6.63959651e-05, 5.91640350e-05, 5.27133166e-05,\n",
       "       4.69602828e-05, 4.18302218e-05, 3.72563223e-05, 3.31788517e-05,\n",
       "       2.95444178e-05, 2.63053059e-05, 2.34188837e-05, 2.08470679e-05,\n",
       "       1.85558450e-05, 1.65148421e-05, 1.46969424e-05, 1.30779401e-05,\n",
       "       1.16362317e-05, 1.03525394e-05, 9.20966345e-06, 8.19226069e-06,\n",
       "       7.28664605e-06, 6.48061527e-06, 5.76328618e-06, 5.12495687e-06])"
      ]
     },
     "execution_count": 6,
     "metadata": {},
     "output_type": "execute_result"
    }
   ],
   "source": [
    "0.5*np.exp(-(x+lambdas)/2)*np.power(x/lambdas,dfs/4-0.5)"
   ]
  },
  {
   "cell_type": "code",
   "execution_count": 7,
   "metadata": {},
   "outputs": [
    {
     "data": {
      "text/plain": [
       "array([0.00000000e+00, 2.11369686e-02, 4.43652964e-02, 6.49936086e-02,\n",
       "       8.21783205e-02, 9.58534982e-02, 1.06242361e-01, 1.13682703e-01,\n",
       "       1.18548896e-01, 1.21213602e-01, 1.22028539e-01, 1.21315267e-01,\n",
       "       1.19361522e-01, 1.16420690e-01, 1.12713053e-01, 1.08427996e-01,\n",
       "       1.03726692e-01, 9.87449491e-02, 9.35960584e-02, 8.83735130e-02,\n",
       "       8.31535515e-02, 7.79974880e-02, 7.29538202e-02, 6.80601140e-02,\n",
       "       6.33446760e-02, 5.88280249e-02, 5.45241786e-02, 5.04417728e-02,\n",
       "       4.65850285e-02, 4.29545836e-02, 3.95482048e-02, 3.63613930e-02,\n",
       "       3.33878965e-02, 3.06201420e-02, 2.80495960e-02, 2.56670650e-02,\n",
       "       2.34629422e-02, 2.14274105e-02, 1.95506058e-02, 1.78227482e-02,\n",
       "       1.62342449e-02, 1.47757697e-02, 1.34383236e-02, 1.22132780e-02,\n",
       "       1.10924047e-02, 1.00678954e-02, 9.13237069e-03, 8.27888317e-03,\n",
       "       7.50091369e-03, 6.79236337e-03, 6.14754203e-03, 5.56115386e-03,\n",
       "       5.02828123e-03, 4.54436710e-03, 4.10519659e-03, 3.70687816e-03,\n",
       "       3.34582463e-03, 3.01873437e-03, 2.72257286e-03, 2.45455475e-03,\n",
       "       2.21212652e-03, 1.99294990e-03, 1.79488608e-03, 1.61598064e-03,\n",
       "       1.45444943e-03, 1.30866517e-03, 1.17714498e-03, 1.05853868e-03,\n",
       "       9.51617801e-04, 8.55265532e-04, 7.68467219e-04, 6.90301666e-04,\n",
       "       6.19933059e-04, 5.56603510e-04, 4.99626201e-04, 4.48379062e-04,\n",
       "       4.02298974e-04, 3.60876441e-04, 3.23650713e-04, 2.90205319e-04,\n",
       "       2.60163986e-04, 2.33186904e-04, 2.08967328e-04, 1.87228466e-04,\n",
       "       1.67720659e-04, 1.50218804e-04, 1.34520012e-04, 1.20441481e-04,\n",
       "       1.07818566e-04, 9.65030212e-05, 8.63614108e-05, 7.72736669e-05,\n",
       "       6.91317825e-05, 6.18386281e-05, 5.53068810e-05, 4.94580566e-05,\n",
       "       4.42216325e-05, 3.95342576e-05, 3.53390365e-05, 3.15848845e-05])"
      ]
     },
     "execution_count": 7,
     "metadata": {},
     "output_type": "execute_result"
    }
   ],
   "source": [
    "(iv(((dfs-2)/2),1.8)*(np.sqrt(lambdas*x))*((x/lambdas)**((dfs-2)/4))*np.exp(-(x+lambdas)/2))*0.5"
   ]
  },
  {
   "cell_type": "code",
   "execution_count": 8,
   "metadata": {},
   "outputs": [
    {
     "data": {
      "text/plain": [
       "array([0.        , 0.00567126, 0.01486629, 0.0252949 , 0.03604637,\n",
       "       0.0465999 , 0.05663217, 0.06593976, 0.07439876, 0.08194072,\n",
       "       0.08853688, 0.09418717, 0.09891235, 0.10274807, 0.10574044,\n",
       "       0.10794257, 0.10941196, 0.11020839, 0.11039239, 0.11002401,\n",
       "       0.10916186, 0.10786248, 0.10617979, 0.10416479, 0.10186528,\n",
       "       0.09932577, 0.09658743, 0.09368807, 0.09066224, 0.08754129,\n",
       "       0.08435351, 0.08112427, 0.07787617, 0.07462924, 0.07140104,\n",
       "       0.06820691, 0.06506009, 0.0619719 , 0.05895191, 0.05600808,\n",
       "       0.05314693, 0.05037365, 0.04769228, 0.04510577, 0.04261617,\n",
       "       0.04022466, 0.03793173, 0.03573721, 0.03364038, 0.03164004,\n",
       "       0.0297346 , 0.0279221 , 0.02620032, 0.02456679, 0.02301887,\n",
       "       0.02155377, 0.02016857, 0.0188603 , 0.01762594, 0.01646242,\n",
       "       0.01536671, 0.01433576, 0.01336659, 0.01245623, 0.0116018 ,\n",
       "       0.01080048, 0.01004952, 0.00934626, 0.00868812, 0.00807261,\n",
       "       0.00749735, 0.00696005, 0.00645849, 0.00599058, 0.00555431,\n",
       "       0.00514776, 0.00476911, 0.00441664, 0.0040887 , 0.00378373,\n",
       "       0.00350026, 0.0032369 , 0.00299234, 0.00276532, 0.0025547 ,\n",
       "       0.00235935, 0.00217826, 0.00201045, 0.001855  , 0.00171107,\n",
       "       0.00157784, 0.00145457, 0.00134056, 0.00123514, 0.0011377 ,\n",
       "       0.00104768, 0.00096452, 0.00088774, 0.00081686, 0.00075145])"
      ]
     },
     "execution_count": 8,
     "metadata": {},
     "output_type": "execute_result"
    }
   ],
   "source": [
    "pdf_chi"
   ]
  },
  {
   "cell_type": "code",
   "execution_count": 13,
   "metadata": {},
   "outputs": [
    {
     "data": {
      "text/plain": [
       "array([  0.        ,   0.16619126,   0.29352533,   0.41753641,\n",
       "         0.54338263,   0.67333852,   0.80874686,   0.95054668,\n",
       "         1.09947319,   1.25614907,   1.42113157,   1.59493915,\n",
       "         1.77806756,   1.9710001 ,   2.17421447,   2.38818761,\n",
       "         2.61339909,   2.85033371,   3.09948346,   3.36134909,\n",
       "         3.6364414 ,   3.92528229,   4.22840566,   4.54635822,\n",
       "         4.87970024,   5.22900614,   5.59486513,   5.9778818 ,\n",
       "         6.37867664,   6.79788656,   7.23616543,   7.69418457,\n",
       "         8.17263323,   8.67221913,   9.1936689 ,   9.73772859,\n",
       "        10.30516418,  10.89676206,  11.51332954,  12.15569536,\n",
       "        12.82471016,  13.52124708,  14.2462022 ,  15.00049513,\n",
       "        15.78506952,  16.60089365,  17.44896091,  18.33029046,\n",
       "        19.24592773,  20.19694506,  21.18444226,  22.20954725,\n",
       "        23.27341664,  24.37723638,  25.52222239,  26.70962124,\n",
       "        27.94071077,  29.21680078,  30.53923371,  31.90938539,\n",
       "        33.32866565,  34.79851915,  36.32042603,  37.89590273,\n",
       "        39.5265027 ,  41.21381722,  42.95947615,  44.76514877,\n",
       "        46.63254458,  48.56341414,  50.55954993,  52.6227872 ,\n",
       "        54.75500485,  56.95812634,  59.2341206 ,  61.58500293,\n",
       "        64.012836  ,  66.51973075,  69.10784741,  71.77939647,\n",
       "        74.53663974,  77.3818913 ,  80.31751864,  83.34594366,\n",
       "        86.4696438 ,  89.69115309,  93.01306336,  96.43802531,\n",
       "        99.9687497 , 103.60800855, 107.35863631, 111.22353113,\n",
       "       115.20565607, 119.30804039, 123.53378082, 127.8860429 ,\n",
       "       132.36806231, 136.9831462 , 141.73467461, 146.62610184])"
      ]
     },
     "execution_count": 13,
     "metadata": {},
     "output_type": "execute_result"
    }
   ],
   "source": [
    "iv((dfs/2)-1,np.sqrt(lambdas*x))"
   ]
  },
  {
   "cell_type": "code",
   "execution_count": null,
   "metadata": {},
   "outputs": [],
   "source": []
  }
 ],
 "metadata": {
  "interpreter": {
   "hash": "02b299190d2856b131a286a0a73f45d0db7a178156e346b85950093f14255064"
  },
  "kernelspec": {
   "display_name": "Python 3.9.12 ('base')",
   "language": "python",
   "name": "python3"
  },
  "language_info": {
   "codemirror_mode": {
    "name": "ipython",
    "version": 3
   },
   "file_extension": ".py",
   "mimetype": "text/x-python",
   "name": "python",
   "nbconvert_exporter": "python",
   "pygments_lexer": "ipython3",
   "version": "3.9.12"
  },
  "orig_nbformat": 4
 },
 "nbformat": 4,
 "nbformat_minor": 2
}
