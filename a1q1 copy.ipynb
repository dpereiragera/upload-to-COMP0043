{
 "cells": [
  {
   "cell_type": "code",
   "execution_count": 1,
   "metadata": {},
   "outputs": [],
   "source": [
    "import numpy as np\n",
    "import pandas as pd\n",
    "import matplotlib.pyplot as plt\n",
    "from scipy.stats import stats\n",
    "from scipy.stats import *\n",
    "import sympy as smp\n",
    "import scipy as sp\n",
    "from scipy.integrate import quad\n",
    "from pytictoc import TicToc"
   ]
  },
  {
   "cell_type": "code",
   "execution_count": 2,
   "metadata": {},
   "outputs": [],
   "source": [
    "#Plot the normal distribution \n",
    "\n",
    "#Define the parameters\n",
    "mu=0.2 #mean\n",
    "sigma=0.1 #standard deviation\n",
    "a=-0.4 #left truncation\n",
    "b=0.8 #right truncation\n",
    "nsteps=120 #number of grid steps\n",
    "\n",
    "#Define the grid with linspace\n",
    "#x=np.linspace(a,b,ngrid) #grid step\n",
    "#deltax=x[1]-x[0] #grid\n",
    "\n",
    "#Define the grid with the colon operator\n",
    "deltax=(b-a)/nsteps #grid step\n",
    "x=np.arange(a,b+deltax,deltax)\n",
    "\n",
    "#Compute the PDF and the CDF\n",
    "#f=1/(np.sqrt(2*np.pi)*sigma)*np.exp(-((x-mu)/sigma)**2/2)\n",
    "theo_pdf=norm.pdf(x,loc=mu,scale=sigma)\n",
    "theo_cdf=norm.cdf(x,loc=mu,scale=sigma)\n",
    "\n",
    "# (a)\n",
    "Fa=(theo_pdf.cumsum())*deltax\n",
    "\n",
    "# (b)\n",
    "Fb=theo_pdf\n",
    "Fbs=[]\n",
    "for i in range(len(Fb)):\n",
    "    rolling_sum=sum(Fb[0:i])*deltax\n",
    "    Fbs.append(rolling_sum)\n",
    "Fb=Fbs[1:]\n",
    "Fb=np.insert(Fb,-1,Fb[-1])\n",
    "\n",
    "# (c)\n",
    "Fc=theo_pdf\n",
    "Fcs=[]\n",
    "for j in range(len(Fc)):\n",
    "    rolling_sum_c=np.trapz(theo_pdf[0:j])*deltax\n",
    "    Fcs.append(rolling_sum_c)\n",
    "Fcs[1]=Fc[0]*deltax\n",
    "Fc=Fcs[1:]\n",
    "Fc=np.insert(Fc,-1,Fc[-1])\n",
    "\n",
    "# (d)\n",
    "Fd=theo_pdf\n",
    "Fds=[]\n",
    "for k in range(1,nsteps):\n",
    "    Fd[k+1]=Fd[k-1]+(0.5*(Fd[k-1]+Fd[k]))\n",
    "Fd[len(Fd[Fd>1]):]=Fb[len(Fd[Fd>1]):]\n",
    "\n",
    "# (e)\n",
    "Fe=np.cumsum(theo_pdf)-(0.5*(theo_pdf[1]+theo_pdf))\n",
    "Fe[0]=theo_pdf[0]\n",
    "Fe[1]=theo_pdf[1]\n",
    "Fe=Fe*deltax"
   ]
  },
  {
   "cell_type": "code",
   "execution_count": 3,
   "metadata": {},
   "outputs": [
    {
     "data": {
      "image/png": "[encoded data removed]",
      "text/plain": [
       "<Figure size 432x288 with 1 Axes>"
      ]
     },
     "metadata": {
      "needs_background": "light"
     },
     "output_type": "display_data"
    }
   ],
   "source": [
    "# (f)\n",
    "theo_cdf[1:10]\n",
    "Fa[1:10]\n",
    "Fb[1:10]\n",
    "Fc[1:10]\n",
    "Fd[1:10]\n",
    "Fe[1:10]\n",
    "\n",
    "theo_cdf[int(nsteps/2)-4:int(nsteps/2)+5]\n",
    "Fa[int(nsteps/2)-4:int(nsteps/2)+5]\n",
    "Fb[int(nsteps/2)-4:int(nsteps/2)+5]\n",
    "Fc[int(nsteps/2)-4:int(nsteps/2)+5]\n",
    "Fd[int(nsteps/2)-4:int(nsteps/2)+5]\n",
    "Fe[int(nsteps/2)-4:int(nsteps/2)+5]\n",
    "\n",
    "plt.figure(1)\n",
    "plt.plot(x,theo_cdf,'g',x,Fa,'b',x,Fc,'b.')\n",
    "plt.xlim((a,b))\n",
    "plt.xlabel('x')\n",
    "plt.ylabel('theo_cdf')\n",
    "plt.legend(['cdf','cumsum','trapz'])\n",
    "plt.title('Normal distribution with mu={} and sigma={}'.format(mu,sigma))\n",
    "plt.show()"
   ]
  },
  {
   "cell_type": "code",
   "execution_count": null,
   "metadata": {},
   "outputs": [],
   "source": []
  }
 ],
 "metadata": {
  "interpreter": {
   "hash": "02b299190d2856b131a286a0a73f45d0db7a178156e346b85950093f14255064"
  },
  "kernelspec": {
   "display_name": "Python 3.9.12 ('base')",
   "language": "python",
   "name": "python3"
  },
  "language_info": {
   "codemirror_mode": {
    "name": "ipython",
    "version": 3
   },
   "file_extension": ".py",
   "mimetype": "text/x-python",
   "name": "python",
   "nbconvert_exporter": "python",
   "pygments_lexer": "ipython3",
   "version": "3.9.12"
  },
  "orig_nbformat": 4
 },
 "nbformat": 4,
 "nbformat_minor": 2
}
